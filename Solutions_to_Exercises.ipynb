{
 "cells": [
  {
   "cell_type": "code",
   "execution_count": 1,
   "metadata": {},
   "outputs": [],
   "source": [
    "import numpy as np\n",
    "import pandas as pd\n",
    "import matplotlib.pyplot as plt\n",
    "from netCDF4 import Dataset\n",
    "from cartopy import crs as ccrs"
   ]
  },
  {
   "cell_type": "markdown",
   "metadata": {},
   "source": [
    "# Session 1\n",
    "\n",
    "**Exercise 1:** Learning to use notebooks\n",
    "\n",
    "1. Launch Jupyter Notebook and create a new notebook\n",
    "2. Rename the notebook\n",
    "3. Create a new cell and use *type()* to see if the following are floats and integers:\n",
    "    * 2+2\n",
    "    * 2\\*2.0\n",
    "    * var_float/var_int\n",
    "---\n",
    "**Solution:**"
   ]
  },
  {
   "cell_type": "code",
   "execution_count": 2,
   "metadata": {},
   "outputs": [
    {
     "data": {
      "text/plain": [
       "(int, float, float)"
      ]
     },
     "execution_count": 2,
     "metadata": {},
     "output_type": "execute_result"
    }
   ],
   "source": [
    "var_int = 8\n",
    "var_float = 15.0\n",
    "\n",
    "type(2+2), type(2*2.0), type(var_float/var_int)"
   ]
  },
  {
   "cell_type": "markdown",
   "metadata": {},
   "source": [
    "**Exercise 2:** Import an ascii file\n",
    "\n",
    "1. Import the dataset \"20200901_20200930_Monterey.lev15.csv\" and save it to a variable called *aeronet*.\n",
    "2. Print the column names\n",
    "3. Find a column that doesn't have only missing values (-999) and (challenge!) calculate the mean using the following syntax *variable\\[\"column\"\\].mean()*\n",
    "---\n",
    "**Solution:**"
   ]
  },
  {
   "cell_type": "code",
   "execution_count": 3,
   "metadata": {},
   "outputs": [],
   "source": [
    "fname = \"data/20200901_20200930_Monterey.lev15.csv\"\n",
    "aeronet = pd.read_csv(fname, sep=',\\s*', engine='python')"
   ]
  },
  {
   "cell_type": "code",
   "execution_count": 4,
   "metadata": {},
   "outputs": [
    {
     "data": {
      "text/html": [
       "<div>\n",
       "<style scoped>\n",
       "    .dataframe tbody tr th:only-of-type {\n",
       "        vertical-align: middle;\n",
       "    }\n",
       "\n",
       "    .dataframe tbody tr th {\n",
       "        vertical-align: top;\n",
       "    }\n",
       "\n",
       "    .dataframe thead th {\n",
       "        text-align: right;\n",
       "    }\n",
       "</style>\n",
       "<table border=\"1\" class=\"dataframe\">\n",
       "  <thead>\n",
       "    <tr style=\"text-align: right;\">\n",
       "      <th></th>\n",
       "      <th>Date(dd:mm:yyyy)</th>\n",
       "      <th>Time(hh:mm:ss)</th>\n",
       "      <th>Day_of_Year</th>\n",
       "      <th>Day_of_Year(Fraction)</th>\n",
       "      <th>AOD_1640nm</th>\n",
       "      <th>AOD_1020nm</th>\n",
       "      <th>AOD_870nm</th>\n",
       "      <th>AOD_865nm</th>\n",
       "      <th>AOD_779nm</th>\n",
       "      <th>AOD_675nm</th>\n",
       "      <th>...</th>\n",
       "      <th>Exact_Wavelengths_of_AOD(um)_380nm</th>\n",
       "      <th>Exact_Wavelengths_of_AOD(um)_340nm</th>\n",
       "      <th>Exact_Wavelengths_of_PW(um)_935nm</th>\n",
       "      <th>Exact_Wavelengths_of_AOD(um)_681nm</th>\n",
       "      <th>Exact_Wavelengths_of_AOD(um)_709nm</th>\n",
       "      <th>Exact_Wavelengths_of_AOD(um)_Empty</th>\n",
       "      <th>Exact_Wavelengths_of_AOD(um)_Empty.1</th>\n",
       "      <th>Exact_Wavelengths_of_AOD(um)_Empty.2</th>\n",
       "      <th>Exact_Wavelengths_of_AOD(um)_Empty.3</th>\n",
       "      <th>Exact_Wavelengths_of_AOD(um)_Empty.4</th>\n",
       "    </tr>\n",
       "  </thead>\n",
       "  <tbody>\n",
       "    <tr>\n",
       "      <th>0</th>\n",
       "      <td>0.071296</td>\n",
       "      <td>20:53:18</td>\n",
       "      <td>245</td>\n",
       "      <td>245.870347</td>\n",
       "      <td>0.061169</td>\n",
       "      <td>0.167012</td>\n",
       "      <td>0.238173</td>\n",
       "      <td>-999</td>\n",
       "      <td>-999</td>\n",
       "      <td>0.400838</td>\n",
       "      <td>...</td>\n",
       "      <td>0.3794</td>\n",
       "      <td>0.3409</td>\n",
       "      <td>0.9365</td>\n",
       "      <td>-999</td>\n",
       "      <td>-999</td>\n",
       "      <td>-999</td>\n",
       "      <td>-999</td>\n",
       "      <td>-999</td>\n",
       "      <td>-999</td>\n",
       "      <td>-999</td>\n",
       "    </tr>\n",
       "    <tr>\n",
       "      <th>1</th>\n",
       "      <td>0.071296</td>\n",
       "      <td>20:58:18</td>\n",
       "      <td>245</td>\n",
       "      <td>245.873819</td>\n",
       "      <td>0.061155</td>\n",
       "      <td>0.168417</td>\n",
       "      <td>0.239952</td>\n",
       "      <td>-999</td>\n",
       "      <td>-999</td>\n",
       "      <td>0.404648</td>\n",
       "      <td>...</td>\n",
       "      <td>0.3794</td>\n",
       "      <td>0.3409</td>\n",
       "      <td>0.9365</td>\n",
       "      <td>-999</td>\n",
       "      <td>-999</td>\n",
       "      <td>-999</td>\n",
       "      <td>-999</td>\n",
       "      <td>-999</td>\n",
       "      <td>-999</td>\n",
       "      <td>-999</td>\n",
       "    </tr>\n",
       "    <tr>\n",
       "      <th>2</th>\n",
       "      <td>0.071296</td>\n",
       "      <td>21:03:18</td>\n",
       "      <td>245</td>\n",
       "      <td>245.877292</td>\n",
       "      <td>0.063135</td>\n",
       "      <td>0.173143</td>\n",
       "      <td>0.246827</td>\n",
       "      <td>-999</td>\n",
       "      <td>-999</td>\n",
       "      <td>0.414668</td>\n",
       "      <td>...</td>\n",
       "      <td>0.3794</td>\n",
       "      <td>0.3409</td>\n",
       "      <td>0.9365</td>\n",
       "      <td>-999</td>\n",
       "      <td>-999</td>\n",
       "      <td>-999</td>\n",
       "      <td>-999</td>\n",
       "      <td>-999</td>\n",
       "      <td>-999</td>\n",
       "      <td>-999</td>\n",
       "    </tr>\n",
       "    <tr>\n",
       "      <th>3</th>\n",
       "      <td>0.071296</td>\n",
       "      <td>21:08:18</td>\n",
       "      <td>245</td>\n",
       "      <td>245.880764</td>\n",
       "      <td>0.061754</td>\n",
       "      <td>0.170541</td>\n",
       "      <td>0.241485</td>\n",
       "      <td>-999</td>\n",
       "      <td>-999</td>\n",
       "      <td>0.405998</td>\n",
       "      <td>...</td>\n",
       "      <td>0.3794</td>\n",
       "      <td>0.3409</td>\n",
       "      <td>0.9365</td>\n",
       "      <td>-999</td>\n",
       "      <td>-999</td>\n",
       "      <td>-999</td>\n",
       "      <td>-999</td>\n",
       "      <td>-999</td>\n",
       "      <td>-999</td>\n",
       "      <td>-999</td>\n",
       "    </tr>\n",
       "    <tr>\n",
       "      <th>4</th>\n",
       "      <td>0.071296</td>\n",
       "      <td>21:18:18</td>\n",
       "      <td>245</td>\n",
       "      <td>245.887708</td>\n",
       "      <td>0.059059</td>\n",
       "      <td>0.163919</td>\n",
       "      <td>0.232041</td>\n",
       "      <td>-999</td>\n",
       "      <td>-999</td>\n",
       "      <td>0.391191</td>\n",
       "      <td>...</td>\n",
       "      <td>0.3794</td>\n",
       "      <td>0.3409</td>\n",
       "      <td>0.9365</td>\n",
       "      <td>-999</td>\n",
       "      <td>-999</td>\n",
       "      <td>-999</td>\n",
       "      <td>-999</td>\n",
       "      <td>-999</td>\n",
       "      <td>-999</td>\n",
       "      <td>-999</td>\n",
       "    </tr>\n",
       "  </tbody>\n",
       "</table>\n",
       "<p>5 rows × 113 columns</p>\n",
       "</div>"
      ],
      "text/plain": [
       "   Date(dd:mm:yyyy) Time(hh:mm:ss)  Day_of_Year  Day_of_Year(Fraction)  \\\n",
       "0          0.071296       20:53:18          245             245.870347   \n",
       "1          0.071296       20:58:18          245             245.873819   \n",
       "2          0.071296       21:03:18          245             245.877292   \n",
       "3          0.071296       21:08:18          245             245.880764   \n",
       "4          0.071296       21:18:18          245             245.887708   \n",
       "\n",
       "   AOD_1640nm  AOD_1020nm  AOD_870nm  AOD_865nm  AOD_779nm  AOD_675nm  ...  \\\n",
       "0    0.061169    0.167012   0.238173       -999       -999   0.400838  ...   \n",
       "1    0.061155    0.168417   0.239952       -999       -999   0.404648  ...   \n",
       "2    0.063135    0.173143   0.246827       -999       -999   0.414668  ...   \n",
       "3    0.061754    0.170541   0.241485       -999       -999   0.405998  ...   \n",
       "4    0.059059    0.163919   0.232041       -999       -999   0.391191  ...   \n",
       "\n",
       "   Exact_Wavelengths_of_AOD(um)_380nm  Exact_Wavelengths_of_AOD(um)_340nm  \\\n",
       "0                              0.3794                              0.3409   \n",
       "1                              0.3794                              0.3409   \n",
       "2                              0.3794                              0.3409   \n",
       "3                              0.3794                              0.3409   \n",
       "4                              0.3794                              0.3409   \n",
       "\n",
       "   Exact_Wavelengths_of_PW(um)_935nm  Exact_Wavelengths_of_AOD(um)_681nm  \\\n",
       "0                             0.9365                                -999   \n",
       "1                             0.9365                                -999   \n",
       "2                             0.9365                                -999   \n",
       "3                             0.9365                                -999   \n",
       "4                             0.9365                                -999   \n",
       "\n",
       "   Exact_Wavelengths_of_AOD(um)_709nm  Exact_Wavelengths_of_AOD(um)_Empty  \\\n",
       "0                                -999                                -999   \n",
       "1                                -999                                -999   \n",
       "2                                -999                                -999   \n",
       "3                                -999                                -999   \n",
       "4                                -999                                -999   \n",
       "\n",
       "   Exact_Wavelengths_of_AOD(um)_Empty.1  Exact_Wavelengths_of_AOD(um)_Empty.2  \\\n",
       "0                                  -999                                  -999   \n",
       "1                                  -999                                  -999   \n",
       "2                                  -999                                  -999   \n",
       "3                                  -999                                  -999   \n",
       "4                                  -999                                  -999   \n",
       "\n",
       "   Exact_Wavelengths_of_AOD(um)_Empty.3  Exact_Wavelengths_of_AOD(um)_Empty.4  \n",
       "0                                  -999                                  -999  \n",
       "1                                  -999                                  -999  \n",
       "2                                  -999                                  -999  \n",
       "3                                  -999                                  -999  \n",
       "4                                  -999                                  -999  \n",
       "\n",
       "[5 rows x 113 columns]"
      ]
     },
     "execution_count": 4,
     "metadata": {},
     "output_type": "execute_result"
    }
   ],
   "source": [
    "aeronet.head()"
   ]
  },
  {
   "cell_type": "code",
   "execution_count": 5,
   "metadata": {},
   "outputs": [
    {
     "data": {
      "text/plain": [
       "-1.7637041143410852"
      ]
     },
     "execution_count": 5,
     "metadata": {},
     "output_type": "execute_result"
    }
   ],
   "source": [
    "aeronet[\"AOD_1640nm\"].mean()"
   ]
  },
  {
   "cell_type": "markdown",
   "metadata": {},
   "source": [
    "---\n",
    "**Exercise 3:** Filtering data\n",
    "\n",
    "Using the dataset imported in the previous example (*aeronet*):\n",
    "    \n",
    "1. Create a mask that filters the \"AOD_870nm\" column to only include values that are above 0.\n",
    "2. Create a new variables, *day_of_year*, with the mask applied to aeronet\\[\"Day_of_Year(Fraction)\"\\].\n",
    "3. Create a new variables, *aod_870*, with the mask applied to aeronet\\[\"AOD_870nm\"\\].\n",
    "4. Compare the mean value of *aeronet\\[\"AOD_870nm\"\\]* to *aod_870*.\n",
    "    \n",
    "---\n",
    "**Solution**"
   ]
  },
  {
   "cell_type": "code",
   "execution_count": 6,
   "metadata": {},
   "outputs": [],
   "source": [
    "mask_aod = (aeronet[\"AOD_870nm\"] > 0 )"
   ]
  },
  {
   "cell_type": "code",
   "execution_count": 7,
   "metadata": {},
   "outputs": [],
   "source": [
    "day_of_year = aeronet[\"Day_of_Year(Fraction)\"][mask_aod]\n",
    "aod_870 = aeronet[\"AOD_870nm\"][mask_aod]"
   ]
  },
  {
   "cell_type": "code",
   "execution_count": 8,
   "metadata": {},
   "outputs": [
    {
     "data": {
      "text/plain": [
       "(-0.3344563769379846, 0.6341813957322987)"
      ]
     },
     "execution_count": 8,
     "metadata": {},
     "output_type": "execute_result"
    }
   ],
   "source": [
    "aeronet[\"AOD_870nm\"].mean(), aod_870.mean()"
   ]
  },
  {
   "cell_type": "markdown",
   "metadata": {},
   "source": [
    "---\n",
    "**Exercise 4:** Create a scatterplot\n",
    "\n",
    "Use the variables *aod_870* and *day_of_year* that you made in Exercise 3 to:\n",
    "\n",
    "1. Create a scatter plot showing the *day_of_year* (x-axis) and *aod_870* (y-axis)\n",
    "2. Add y-axis and x-axis labels using *.set_xlabel()* and *.set_ylabel()*\n",
    "3. Adjust the color and size of the scatterplot\n",
    "\n",
    "---\n",
    "**Solution**"
   ]
  },
  {
   "cell_type": "code",
   "execution_count": 9,
   "metadata": {},
   "outputs": [
    {
     "data": {
      "image/png": "[encoded data removed]",
      "text/plain": [
       "<Figure size 432x288 with 1 Axes>"
      ]
     },
     "metadata": {
      "needs_background": "light"
     },
     "output_type": "display_data"
    }
   ],
   "source": [
    "fig = plt.figure() \n",
    "ax = plt.subplot()\n",
    "ax.scatter(day_of_year, aod_870, s=0.5)\n",
    "ax.set_xlabel('Day of Year')\n",
    "ax.set_ylabel('AOD')\n",
    "plt.show()"
   ]
  },
  {
   "cell_type": "markdown",
   "metadata": {},
   "source": [
    "# Session 2\n",
    "\n",
    "---\n",
    "**Exercise 1**: Importing netCDF files\n",
    "1. Open the file \"MOP03JM-201811-L3V95.6.3_thinned.nc\" using the netCDF4 library\n",
    "2. Print the variable names\n",
    "3. What are the dimensions?\n",
    "---\n",
    "\n",
    "**Solution:**"
   ]
  },
  {
   "cell_type": "code",
   "execution_count": 10,
   "metadata": {},
   "outputs": [],
   "source": [
    "fname = 'data/MOP03JM-201811-L3V95.6.3_thinned.nc' \n",
    "mop_file_id = Dataset(fname, 'r')"
   ]
  },
  {
   "cell_type": "code",
   "execution_count": 11,
   "metadata": {},
   "outputs": [
    {
     "data": {
      "text/plain": [
       "<class 'netCDF4._netCDF4.Dataset'>\n",
       "root group (NETCDF4 data model, file format HDF5):\n",
       "    dimensions(sizes): YDim(180), XDim(360)\n",
       "    variables(dimensions): float32 Latitude(YDim), float32 Longitude(XDim), float32 RetrievedCOTotalColumnDay(XDim, YDim)\n",
       "    groups: "
      ]
     },
     "execution_count": 11,
     "metadata": {},
     "output_type": "execute_result"
    }
   ],
   "source": [
    "mop_file_id"
   ]
  },
  {
   "cell_type": "markdown",
   "metadata": {},
   "source": [
    "---\n",
    "**Exercise 2**: Plot 3-dimensional data\n",
    "\n",
    "Plot *AOD_lat*, *AOD_lon*, and *AOD_500* (which we imported from the \"JRR-AOD_v2r3_j01_...\" netCDF file as:\n",
    "\n",
    "1. Check the dimensions for all variables using *.shape*.\n",
    "2. Do you need to generate a meshgrid with *np.meshgrid()*?\n",
    "3. Create a = contour plot\n",
    "\n",
    "---\n",
    "**Solution:**"
   ]
  },
  {
   "cell_type": "code",
   "execution_count": 12,
   "metadata": {},
   "outputs": [],
   "source": [
    "fname='data/JRR-AOD_v2r3_j01_s202009152044026_e202009152045271_c202009152113150_thinned.nc'\n",
    "aod_file_id = Dataset(fname)\n",
    "\n",
    "AOD_550 = aod_file_id.variables['AOD550'][:,:]\n",
    "AOD_lat = aod_file_id.variables['Latitude'][:,:]\n",
    "AOD_lon = aod_file_id.variables['Longitude'][:,:]"
   ]
  },
  {
   "cell_type": "code",
   "execution_count": 13,
   "metadata": {},
   "outputs": [
    {
     "data": {
      "text/plain": [
       "((768, 3200), (768, 3200))"
      ]
     },
     "execution_count": 13,
     "metadata": {},
     "output_type": "execute_result"
    }
   ],
   "source": [
    "AOD_lat.shape, AOD_lon.shape"
   ]
  },
  {
   "cell_type": "code",
   "execution_count": 14,
   "metadata": {},
   "outputs": [
    {
     "data": {
      "image/png": "[encoded data removed]",
      "text/plain": [
       "<Figure size 432x288 with 2 Axes>"
      ]
     },
     "metadata": {
      "needs_background": "light"
     },
     "output_type": "display_data"
    }
   ],
   "source": [
    "fig = plt.figure() \n",
    "ax = plt.subplot()\n",
    "co_plot = ax.contourf(AOD_lon, AOD_lat, AOD_550)\n",
    "fig.colorbar(co_plot, orientation='horizontal')\n",
    "plt.show()"
   ]
  },
  {
   "cell_type": "markdown",
   "metadata": {},
   "source": [
    "---\n",
    "**Exercise 3** Adding maps to plots\n",
    "\n",
    "Using *AOD_lat*, *AOD_lon*, and *AOD_550* (which we imported from the \"JRR-AOD_v2r3_j01_...\" netCDF file):\n",
    "\n",
    "1. Create a *contourf* plot (same as Exercise 2)\n",
    "2. Add the coastlines to a standard Plate Caree plot using *projection=* option.\n",
    "\n",
    "---\n",
    "**Solution**:"
   ]
  },
  {
   "cell_type": "code",
   "execution_count": 15,
   "metadata": {},
   "outputs": [
    {
     "data": {
      "image/png": "[encoded data removed]",
      "text/plain": [
       "<Figure size 432x288 with 1 Axes>"
      ]
     },
     "metadata": {
      "needs_background": "light"
     },
     "output_type": "display_data"
    }
   ],
   "source": [
    "fig = plt.figure()\n",
    "ax = plt.subplot(projection=ccrs.PlateCarree())\n",
    "\n",
    "ax.contourf(AOD_lon, AOD_lat, AOD_550)\n",
    "\n",
    "ax.coastlines('50m')\n",
    "plt.show()"
   ]
  }
 ],
 "metadata": {
  "kernelspec": {
   "display_name": "Python 3",
   "language": "python",
   "name": "python3"
  },
  "language_info": {
   "codemirror_mode": {
    "name": "ipython",
    "version": 3
   },
   "file_extension": ".py",
   "mimetype": "text/x-python",
   "name": "python",
   "nbconvert_exporter": "python",
   "pygments_lexer": "ipython3",
   "version": "3.7.8"
  }
 },
 "nbformat": 4,
 "nbformat_minor": 4
}
